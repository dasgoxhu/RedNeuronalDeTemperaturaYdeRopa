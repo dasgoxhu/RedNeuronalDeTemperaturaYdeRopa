{
  "nbformat": 4,
  "nbformat_minor": 0,
  "metadata": {
    "colab": {
      "provenance": []
    },
    "kernelspec": {
      "name": "python3",
      "display_name": "Python 3"
    },
    "language_info": {
      "name": "python"
    }
  },
  "cells": [
    {
      "cell_type": "markdown",
      "source": [
        "\n",
        "\n",
        "<h1 align = \"center\"> <b> Red neuronal de temperatura </b></h2>\n"
      ],
      "metadata": {
        "id": "fbEc-uIP1OuX"
      }
    },
    {
      "cell_type": "code",
      "source": [
        "# Importacion de librerias\n",
        "\n",
        "import numpy as np\n",
        "import tensorflow as tf\n",
        "from tensorflow import keras\n",
        "from keras import models\n",
        "from keras import layers\n",
        "from keras.optimizers import SGD\n"
      ],
      "metadata": {
        "id": "I9TmFpuFUXLG"
      },
      "execution_count": 1,
      "outputs": []
    },
    {
      "cell_type": "code",
      "source": [
        "# Definicion del conjunto de datos de entrenamiento\n",
        "\n",
        "x_celsius = np.array((-100, 0, -45, -10, 10, 100, 35, 15, 22, 38), dtype = float)\n",
        "y_fahrenheit = np.array((-148, 32, -49, 14, 50, 212, 95, 59, 72, 100), dtype = float)\n"
      ],
      "metadata": {
        "id": "Vj7Jz48xVpdG"
      },
      "execution_count": 2,
      "outputs": []
    },
    {
      "cell_type": "code",
      "source": [
        "# Visualizacion de Cellsius\n",
        "\n",
        "x_celsius"
      ],
      "metadata": {
        "id": "JrGws2-WXmkY",
        "colab": {
          "base_uri": "https://localhost:8080/"
        },
        "outputId": "374fb9c8-ad0b-4168-88c1-9677554d3d2d"
      },
      "execution_count": 3,
      "outputs": [
        {
          "output_type": "execute_result",
          "data": {
            "text/plain": [
              "array([-100.,    0.,  -45.,  -10.,   10.,  100.,   35.,   15.,   22.,\n",
              "         38.])"
            ]
          },
          "metadata": {},
          "execution_count": 3
        }
      ]
    },
    {
      "cell_type": "code",
      "source": [
        "# Visualizacion de Fahrenheit\n",
        "\n",
        "y_fahrenheit"
      ],
      "metadata": {
        "id": "JJuhptVnXt3y",
        "colab": {
          "base_uri": "https://localhost:8080/"
        },
        "outputId": "82debf2c-1441-4ca5-df05-183e9c996876"
      },
      "execution_count": 4,
      "outputs": [
        {
          "output_type": "execute_result",
          "data": {
            "text/plain": [
              "array([-148.,   32.,  -49.,   14.,   50.,  212.,   95.,   59.,   72.,\n",
              "        100.])"
            ]
          },
          "metadata": {},
          "execution_count": 4
        }
      ]
    },
    {
      "cell_type": "code",
      "source": [
        "import matplotlib.pyplot as plt\n",
        "\n",
        "plt.plot(x_celsius, y_fahrenheit, 'o')\n",
        "plt.title(\"°C vs °F\")\n",
        "plt.show()"
      ],
      "metadata": {
        "colab": {
          "base_uri": "https://localhost:8080/",
          "height": 452
        },
        "id": "tJPoXE-xXxp3",
        "outputId": "91debf32-6913-4c66-945c-511f94d02f2b"
      },
      "execution_count": 5,
      "outputs": [
        {
          "output_type": "display_data",
          "data": {
            "text/plain": [
              "<Figure size 640x480 with 1 Axes>"
            ],
            "image/png": "[encoded data removed]"
          },
          "metadata": {}
        }
      ]
    },
    {
      "cell_type": "code",
      "source": [
        "# Definicion de la arquitectura de la red neuronal\n",
        "\n",
        "modelo = keras.Sequential([\n",
        " keras.layers.Dense(units = 1, input_shape= [1], activation = 'linear')\n",
        "\n",
        "])\n",
        "modelo.summary()"
      ],
      "metadata": {
        "id": "IvfEM5GVZSfX",
        "colab": {
          "base_uri": "https://localhost:8080/"
        },
        "outputId": "403f977b-c631-4b88-8266-fb127e9c4ce1"
      },
      "execution_count": 6,
      "outputs": [
        {
          "output_type": "stream",
          "name": "stdout",
          "text": [
            "Model: \"sequential\"\n",
            "_________________________________________________________________\n",
            " Layer (type)                Output Shape              Param #   \n",
            "=================================================================\n",
            " dense (Dense)               (None, 1)                 2         \n",
            "                                                                 \n",
            "=================================================================\n",
            "Total params: 2 (8.00 Byte)\n",
            "Trainable params: 2 (8.00 Byte)\n",
            "Non-trainable params: 0 (0.00 Byte)\n",
            "_________________________________________________________________\n"
          ]
        }
      ]
    },
    {
      "cell_type": "code",
      "source": [
        "# Compilacion\n",
        "from keras.src.engine.training import optimizer\n",
        "\n",
        "modelo.compile(loss = 'mean_squared_error',\n",
        "                optimizer = tf.keras.optimizers.Adam(learning_rate=0.1),\n",
        "                metrics = ['mean_squared_error'])"
      ],
      "metadata": {
        "id": "DVYzf-BcZyM1"
      },
      "execution_count": 8,
      "outputs": []
    },
    {
      "cell_type": "code",
      "source": [
        "# Entrenando el modelo\n",
        "\n",
        "print(\"Comenzando entrenamiento...\")\n",
        "historial = modelo.fit(x_celsius, y_fahrenheit, epochs=2000, verbose=False)\n",
        "print(\"Modelo entrenado!\")\n",
        "\n",
        "plt.xlabel(\"# Epoca\")\n",
        "plt.ylabel(\"Magnitud de pérdida\")\n",
        "plt.plot(historial.history[\"loss\"])"
      ],
      "metadata": {
        "colab": {
          "base_uri": "https://localhost:8080/",
          "height": 501
        },
        "id": "cje6E4Ctgr6I",
        "outputId": "03cbcbfe-9237-428f-e814-76f73ad41f40"
      },
      "execution_count": 15,
      "outputs": [
        {
          "output_type": "stream",
          "name": "stdout",
          "text": [
            "Comenzando entrenamiento...\n",
            "Modelo entrenado!\n"
          ]
        },
        {
          "output_type": "execute_result",
          "data": {
            "text/plain": [
              "[<matplotlib.lines.Line2D at 0x787dd59c4970>]"
            ]
          },
          "metadata": {},
          "execution_count": 15
        },
        {
          "output_type": "display_data",
          "data": {
            "text/plain": [
              "<Figure size 640x480 with 1 Axes>"
            ],
            "image/png": "[encoded data removed]"
          },
          "metadata": {}
        }
      ]
    },
    {
      "cell_type": "code",
      "source": [
        "# Realizando las predicciones\n",
        "\n",
        "x_test = np.array([-10, 0, 25, 30, 40, 50])\n",
        "y_predicciones = modelo.predict(x_test)\n",
        "y_predicciones"
      ],
      "metadata": {
        "colab": {
          "base_uri": "https://localhost:8080/"
        },
        "id": "SaBfxeR0hBsr",
        "outputId": "8146e896-ba7a-4fa6-dbf4-1a19efb2b5cc"
      },
      "execution_count": 16,
      "outputs": [
        {
          "output_type": "stream",
          "name": "stdout",
          "text": [
            "1/1 [==============================] - 0s 89ms/step\n"
          ]
        },
        {
          "output_type": "execute_result",
          "data": {
            "text/plain": [
              "array([[ 14.004221],\n",
              "       [ 32.001648],\n",
              "       [ 76.99522 ],\n",
              "       [ 85.99393 ],\n",
              "       [103.991356],\n",
              "       [121.988785]], dtype=float32)"
            ]
          },
          "metadata": {},
          "execution_count": 16
        }
      ]
    },
    {
      "cell_type": "markdown",
      "source": [
        "\n",
        "\n",
        "<h1 align = \"center\"> <b> Red neuronal \"Fashion\" </b></h2>\n",
        "\n"
      ],
      "metadata": {
        "id": "5yC8Nf9k1qpG"
      }
    },
    {
      "cell_type": "code",
      "source": [
        "# Importaciones\n",
        "import tensorflow as tf\n",
        "from tensorflow.keras.datasets import fashion_mnist\n",
        "from tensorflow.keras.models import Sequential\n",
        "from tensorflow.keras.layers import Dense, Flatten, Dropout\n",
        "from tensorflow.keras.losses import SparseCategoricalCrossentropy\n",
        "from tensorflow.keras.optimizers import Adam\n",
        "from tensorflow.keras.metrics import SparseCategoricalAccuracy\n",
        "import matplotlib.pyplot as plt\n",
        "import numpy as np"
      ],
      "metadata": {
        "id": "OxetGmfT196P"
      },
      "execution_count": null,
      "outputs": []
    },
    {
      "cell_type": "code",
      "source": [
        "# Definir el conjunto de datos de entrenamiento\n",
        "(train_images, train_labels), (test_images, test_labels) = fashion_mnist.load_data()\n",
        "\n",
        "class_names = ['Camiseta', 'Pantalón', 'Suéter', 'Vestido', 'Abrigo', 'Sandalia', 'Camisa', 'Zapatilla deportiva', 'Bolso', 'Botines']"
      ],
      "metadata": {
        "id": "TI1Kp9GJ2eE3"
      },
      "execution_count": null,
      "outputs": []
    },
    {
      "cell_type": "code",
      "source": [
        "# Mostrar una imagen de prueba\n",
        "plt.imshow(train_images[1], cmap=plt.cm.binary)\n",
        "plt.grid(False)\n",
        "plt.show()\n",
        "print(class_names[train_labels[1]])\n",
        "print(train_images[1].shape)"
      ],
      "metadata": {
        "colab": {
          "base_uri": "https://localhost:8080/",
          "height": 465
        },
        "id": "Dh5mVLfY5mw6",
        "outputId": "40c0aed9-12cc-4341-b562-9b7f6d843df1"
      },
      "execution_count": null,
      "outputs": [
        {
          "output_type": "display_data",
          "data": {
            "text/plain": [
              "<Figure size 640x480 with 1 Axes>"
            ],
            "image/png": "[encoded data removed]"
          },
          "metadata": {}
        },
        {
          "output_type": "stream",
          "name": "stdout",
          "text": [
            "Camiseta\n",
            "(28, 28)\n"
          ]
        }
      ]
    },
    {
      "cell_type": "code",
      "source": [
        "# Definir la arquitectura de la Red Neuronal Artificial\n",
        "model = Sequential([\n",
        "    Flatten(input_shape=(28, 28)),  # Aplanar la imagen de 28x28\n",
        "    Dense(256, activation='relu'),  # Más neuronas en la capa oculta\n",
        "    Dropout(0.5),  # Regularización Dropout\n",
        "    Dense(128, activation='relu'),\n",
        "    Dense(10, activation='softmax')\n",
        "])"
      ],
      "metadata": {
        "id": "BYguX_xs3Cnp"
      },
      "execution_count": null,
      "outputs": []
    },
    {
      "cell_type": "code",
      "source": [
        "# Configurar el proceso de aprendizaje\n",
        "model.compile(optimizer=Adam(learning_rate=0.0001),  # Tasa de aprendizaje reducida\n",
        "              loss=SparseCategoricalCrossentropy(),\n",
        "              metrics=[SparseCategoricalAccuracy()])\n"
      ],
      "metadata": {
        "id": "5cLdJpE23LE1"
      },
      "execution_count": null,
      "outputs": []
    },
    {
      "cell_type": "code",
      "source": [
        "# Preparación del conjunto de datos\n",
        "# Normalizar los valores de píxeles en el rango [0, 1]\n",
        "train_images, test_images = train_images / 255.0, test_images / 255.0\n"
      ],
      "metadata": {
        "id": "hnlNH-b_3kLD"
      },
      "execution_count": null,
      "outputs": []
    },
    {
      "cell_type": "code",
      "source": [
        "# Entrenar la RNA con el conjunto de datos de entrenamiento\n",
        "history = model.fit(train_images, train_labels, epochs=30, batch_size=64, validation_split=0.2)"
      ],
      "metadata": {
        "colab": {
          "base_uri": "https://localhost:8080/"
        },
        "id": "q1ERTEJh3O2_",
        "outputId": "15751328-4502-44f2-bf88-d07d96a5c743"
      },
      "execution_count": null,
      "outputs": [
        {
          "output_type": "stream",
          "name": "stdout",
          "text": [
            "Epoch 1/30\n",
            "750/750 [==============================] - 8s 10ms/step - loss: 0.3099 - sparse_categorical_accuracy: 0.8868 - val_loss: 0.3139 - val_sparse_categorical_accuracy: 0.8881\n",
            "Epoch 2/30\n",
            "750/750 [==============================] - 7s 9ms/step - loss: 0.3041 - sparse_categorical_accuracy: 0.8896 - val_loss: 0.3173 - val_sparse_categorical_accuracy: 0.8867\n",
            "Epoch 3/30\n",
            "750/750 [==============================] - 8s 11ms/step - loss: 0.3003 - sparse_categorical_accuracy: 0.8907 - val_loss: 0.3121 - val_sparse_categorical_accuracy: 0.8855\n",
            "Epoch 4/30\n",
            "750/750 [==============================] - 8s 11ms/step - loss: 0.2976 - sparse_categorical_accuracy: 0.8899 - val_loss: 0.3149 - val_sparse_categorical_accuracy: 0.8861\n",
            "Epoch 5/30\n",
            "750/750 [==============================] - 7s 9ms/step - loss: 0.2949 - sparse_categorical_accuracy: 0.8921 - val_loss: 0.3077 - val_sparse_categorical_accuracy: 0.8885\n",
            "Epoch 6/30\n",
            "750/750 [==============================] - 7s 10ms/step - loss: 0.2902 - sparse_categorical_accuracy: 0.8939 - val_loss: 0.3124 - val_sparse_categorical_accuracy: 0.8867\n",
            "Epoch 7/30\n",
            "750/750 [==============================] - 7s 9ms/step - loss: 0.2891 - sparse_categorical_accuracy: 0.8948 - val_loss: 0.3089 - val_sparse_categorical_accuracy: 0.8913\n",
            "Epoch 8/30\n",
            "750/750 [==============================] - 9s 12ms/step - loss: 0.2877 - sparse_categorical_accuracy: 0.8948 - val_loss: 0.3091 - val_sparse_categorical_accuracy: 0.8883\n",
            "Epoch 9/30\n",
            "750/750 [==============================] - 6s 9ms/step - loss: 0.2840 - sparse_categorical_accuracy: 0.8962 - val_loss: 0.3054 - val_sparse_categorical_accuracy: 0.8891\n",
            "Epoch 10/30\n",
            "750/750 [==============================] - 7s 10ms/step - loss: 0.2794 - sparse_categorical_accuracy: 0.8969 - val_loss: 0.3027 - val_sparse_categorical_accuracy: 0.8916\n",
            "Epoch 11/30\n",
            "750/750 [==============================] - 7s 9ms/step - loss: 0.2749 - sparse_categorical_accuracy: 0.8997 - val_loss: 0.3035 - val_sparse_categorical_accuracy: 0.8903\n",
            "Epoch 12/30\n",
            "750/750 [==============================] - 6s 9ms/step - loss: 0.2752 - sparse_categorical_accuracy: 0.9001 - val_loss: 0.3053 - val_sparse_categorical_accuracy: 0.8911\n",
            "Epoch 13/30\n",
            "750/750 [==============================] - 8s 10ms/step - loss: 0.2725 - sparse_categorical_accuracy: 0.8996 - val_loss: 0.3025 - val_sparse_categorical_accuracy: 0.8909\n",
            "Epoch 14/30\n",
            "750/750 [==============================] - 6s 8ms/step - loss: 0.2688 - sparse_categorical_accuracy: 0.9018 - val_loss: 0.3001 - val_sparse_categorical_accuracy: 0.8931\n",
            "Epoch 15/30\n",
            "750/750 [==============================] - 7s 10ms/step - loss: 0.2663 - sparse_categorical_accuracy: 0.9021 - val_loss: 0.2980 - val_sparse_categorical_accuracy: 0.8931\n",
            "Epoch 16/30\n",
            "750/750 [==============================] - 6s 8ms/step - loss: 0.2660 - sparse_categorical_accuracy: 0.9025 - val_loss: 0.3003 - val_sparse_categorical_accuracy: 0.8920\n",
            "Epoch 17/30\n",
            "750/750 [==============================] - 7s 9ms/step - loss: 0.2624 - sparse_categorical_accuracy: 0.9028 - val_loss: 0.3004 - val_sparse_categorical_accuracy: 0.8912\n",
            "Epoch 18/30\n",
            "750/750 [==============================] - 6s 8ms/step - loss: 0.2597 - sparse_categorical_accuracy: 0.9050 - val_loss: 0.2987 - val_sparse_categorical_accuracy: 0.8921\n",
            "Epoch 19/30\n",
            "750/750 [==============================] - 7s 10ms/step - loss: 0.2591 - sparse_categorical_accuracy: 0.9048 - val_loss: 0.2975 - val_sparse_categorical_accuracy: 0.8942\n",
            "Epoch 20/30\n",
            "750/750 [==============================] - 6s 8ms/step - loss: 0.2542 - sparse_categorical_accuracy: 0.9066 - val_loss: 0.2979 - val_sparse_categorical_accuracy: 0.8950\n",
            "Epoch 21/30\n",
            "750/750 [==============================] - 7s 10ms/step - loss: 0.2534 - sparse_categorical_accuracy: 0.9076 - val_loss: 0.2956 - val_sparse_categorical_accuracy: 0.8940\n",
            "Epoch 22/30\n",
            "750/750 [==============================] - 6s 9ms/step - loss: 0.2509 - sparse_categorical_accuracy: 0.9078 - val_loss: 0.2965 - val_sparse_categorical_accuracy: 0.8932\n",
            "Epoch 23/30\n",
            "750/750 [==============================] - 8s 10ms/step - loss: 0.2469 - sparse_categorical_accuracy: 0.9098 - val_loss: 0.2958 - val_sparse_categorical_accuracy: 0.8938\n",
            "Epoch 24/30\n",
            "750/750 [==============================] - 7s 9ms/step - loss: 0.2465 - sparse_categorical_accuracy: 0.9098 - val_loss: 0.2938 - val_sparse_categorical_accuracy: 0.8947\n",
            "Epoch 25/30\n",
            "750/750 [==============================] - 7s 9ms/step - loss: 0.2451 - sparse_categorical_accuracy: 0.9103 - val_loss: 0.2969 - val_sparse_categorical_accuracy: 0.8948\n",
            "Epoch 26/30\n",
            "750/750 [==============================] - 7s 10ms/step - loss: 0.2413 - sparse_categorical_accuracy: 0.9110 - val_loss: 0.2976 - val_sparse_categorical_accuracy: 0.8927\n",
            "Epoch 27/30\n",
            "750/750 [==============================] - 6s 8ms/step - loss: 0.2419 - sparse_categorical_accuracy: 0.9117 - val_loss: 0.3002 - val_sparse_categorical_accuracy: 0.8939\n",
            "Epoch 28/30\n",
            "750/750 [==============================] - 7s 10ms/step - loss: 0.2386 - sparse_categorical_accuracy: 0.9114 - val_loss: 0.2932 - val_sparse_categorical_accuracy: 0.8950\n",
            "Epoch 29/30\n",
            "750/750 [==============================] - 7s 9ms/step - loss: 0.2388 - sparse_categorical_accuracy: 0.9115 - val_loss: 0.2973 - val_sparse_categorical_accuracy: 0.8947\n",
            "Epoch 30/30\n",
            "750/750 [==============================] - 8s 11ms/step - loss: 0.2378 - sparse_categorical_accuracy: 0.9123 - val_loss: 0.2946 - val_sparse_categorical_accuracy: 0.8961\n"
          ]
        }
      ]
    },
    {
      "cell_type": "code",
      "source": [
        "# Validación con el conjunto de datos de prueba\n",
        "test_loss, test_accuracy = model.evaluate(test_images, test_labels, verbose=2)\n",
        "print(f'Precisión en el conjunto de prueba: {test_accuracy}')"
      ],
      "metadata": {
        "colab": {
          "base_uri": "https://localhost:8080/"
        },
        "id": "oCD0dXAX3a-l",
        "outputId": "ddf9267f-146b-4e12-ee97-1722ece35f40"
      },
      "execution_count": null,
      "outputs": [
        {
          "output_type": "stream",
          "name": "stdout",
          "text": [
            "313/313 - 1s - loss: 0.3255 - sparse_categorical_accuracy: 0.8886 - 844ms/epoch - 3ms/step\n",
            "Precisión en el conjunto de prueba: 0.8885999917984009\n"
          ]
        }
      ]
    },
    {
      "cell_type": "code",
      "source": [
        "# Predicción con la imagen de prueba proporcionada\n",
        "example_image = train_images[1]  # Usamos la imagen de prueba proporcionada\n",
        "example_image = np.expand_dims(example_image, axis=0)  # Agregamos una dimensión extra para que coincida con la forma de entrada\n",
        "prediction = model.predict(example_image)\n",
        "predicted_class = np.argmax(prediction)"
      ],
      "metadata": {
        "colab": {
          "base_uri": "https://localhost:8080/"
        },
        "id": "dPHwT9pE324L",
        "outputId": "63d9be5a-1c19-4a61-db63-832f04c02359"
      },
      "execution_count": null,
      "outputs": [
        {
          "output_type": "stream",
          "name": "stdout",
          "text": [
            "1/1 [==============================] - 0s 53ms/step\n"
          ]
        }
      ]
    },
    {
      "cell_type": "code",
      "source": [
        "# Mostrar la imagen de prueba\n",
        "plt.imshow(train_images[1], cmap=plt.cm.binary)\n",
        "plt.grid(False)\n",
        "plt.show()"
      ],
      "metadata": {
        "colab": {
          "base_uri": "https://localhost:8080/",
          "height": 430
        },
        "id": "SfTTOs507zlB",
        "outputId": "d881ec7a-bee7-4f77-91ca-05c00b851313"
      },
      "execution_count": null,
      "outputs": [
        {
          "output_type": "display_data",
          "data": {
            "text/plain": [
              "<Figure size 640x480 with 1 Axes>"
            ],
            "image/png": "[encoded data removed]"
          },
          "metadata": {}
        }
      ]
    },
    {
      "cell_type": "code",
      "source": [
        "# Imprimir la predicción y la etiqueta verdadera\n",
        "print(f'Clase predicha para la imagen de prueba: {class_names[predicted_class]}')\n",
        "print(f'Etiqueta verdadera para la imagen de prueba: {class_names[train_labels[1]]}')"
      ],
      "metadata": {
        "colab": {
          "base_uri": "https://localhost:8080/"
        },
        "id": "aZAS8wCf-ZQB",
        "outputId": "22958e10-a0d6-4729-b821-67ce240adbc1"
      },
      "execution_count": null,
      "outputs": [
        {
          "output_type": "stream",
          "name": "stdout",
          "text": [
            "Clase predicha para la imagen de prueba: Camiseta\n",
            "Etiqueta verdadera para la imagen de prueba: Camiseta\n"
          ]
        }
      ]
    }
  ]
}